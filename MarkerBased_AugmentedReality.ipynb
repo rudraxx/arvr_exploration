{
 "cells": [
  {
   "cell_type": "markdown",
   "metadata": {},
   "source": [
    "# Augmented Reality using ArUco tags"
   ]
  },
  {
   "cell_type": "code",
   "execution_count": 131,
   "metadata": {},
   "outputs": [],
   "source": [
    "import cv2\n",
    "import numpy as np\n",
    "import matplotlib.pyplot as plt\n"
   ]
  },
  {
   "cell_type": "code",
   "execution_count": 132,
   "metadata": {},
   "outputs": [
    {
     "data": {
      "image/png": "[encoded data removed]",
      "text/plain": [
       "<Figure size 432x288 with 1 Axes>"
      ]
     },
     "metadata": {
      "needs_background": "light"
     },
     "output_type": "display_data"
    },
    {
     "data": {
      "image/png": "[encoded data removed]",
      "text/plain": [
       "<Figure size 432x288 with 1 Axes>"
      ]
     },
     "metadata": {
      "needs_background": "light"
     },
     "output_type": "display_data"
    }
   ],
   "source": [
    "# Load the aruco dictionary\n",
    "marker_dict = cv2.aruco.Dictionary_get(cv2.aruco.DICT_5X5_50)\n",
    "\n",
    "#Generate the marker\n",
    "edgesize = 200\n",
    "tgtMarkerID = 44\n",
    "markerImage = np.zeros((edgesize,edgesize),dtype=np.uint8)\n",
    "marker = cv2.aruco.drawMarker(marker_dict,tgtMarkerID,edgesize,markerImage,1)\n",
    "\n",
    "plt.imshow(marker,cmap='gray')\n",
    "plt.title(\"Marker image\")\n",
    "plt.show()\n",
    "\n",
    "# Write to file as part of larger image\n",
    "outImage = 255*np.ones((2*edgesize,2*edgesize),dtype=np.uint8)\n",
    "\n",
    "outImage[100:300,100:300] = markerImage\n",
    "plt.imshow(outImage,cmap='gray')\n",
    "plt.title(\"Marker as a part of larger image\")\n",
    "plt.show()\n",
    "\n",
    "ret = cv2.imwrite('images/images_aruco/armarker_1.png',outImage)\n"
   ]
  },
  {
   "cell_type": "markdown",
   "metadata": {},
   "source": [
    "## Detect the marker"
   ]
  },
  {
   "cell_type": "code",
   "execution_count": 133,
   "metadata": {},
   "outputs": [
    {
     "name": "stdout",
     "output_type": "stream",
     "text": [
      "Input image shape is (400, 400, 3)\n"
     ]
    }
   ],
   "source": [
    "# Load the dictionary\n",
    "marker_dict = cv2.aruco.Dictionary_get(cv2.aruco.DICT_5X5_50)\n",
    "\n",
    "# initialize the detector with default params\n",
    "params = cv2.aruco.DetectorParameters_create()\n",
    "\n",
    "params.minDistanceToBorder = 0;\n",
    "params.adaptiveThreshWinSizeMax = 400;\n",
    "\n",
    "frame = cv2.imread('images/images_aruco/armarker_1.png')\n",
    "print(\"Input image shape is\", frame.shape)\n",
    "# Detect the marker\n",
    "(corners, ids, rejectedImgPoints) = cv2.aruco.detectMarkers(frame,marker_dict,parameters=params)\n",
    "\n",
    "detectedMarkerID = ids[0][0]\n"
   ]
  },
  {
   "cell_type": "code",
   "execution_count": 134,
   "metadata": {},
   "outputs": [
    {
     "data": {
      "image/png": "[encoded data removed]",
      "text/plain": [
       "<Figure size 432x288 with 1 Axes>"
      ]
     },
     "metadata": {
      "needs_background": "light"
     },
     "output_type": "display_data"
    }
   ],
   "source": [
    "# Show detected conrners\n",
    "\n",
    "img_corners = np.copy(frame)\n",
    "# print(img_corners.shape)\n",
    "for corner in corners:\n",
    "#     print((pts.shape))\n",
    "\n",
    "    for i in range(0,4):\n",
    "        x = corner[0][i][0]\n",
    "        y = corner[0][i][1]\n",
    "#         print(x,y)\n",
    "        img2 = cv2.circle(img_corners, (x, y), 5, (255,0,0), 2)\n",
    "        \n",
    "\n",
    "    #Add text to the image\n",
    "#     img2 = cv2.addText(img2,ids[0][0],(20,20),cv2.FONT_HERSHEY_SIMPLEX,1, (255, 0, 0))\n",
    "    #img2 = cv2.addText(img2,ids[0][0],(20,20),cv2.FONT_HERSHEY_SIMPLEX,1, (255, 0, 0))\n",
    "\n",
    "plt.imshow(img2)\n",
    "plt.title('Detected ID: {}, Actual Marker ID: {} '.format(tgtMarkerID, detectedMarkerID))\n",
    "plt.show()\n",
    "\n",
    "\n"
   ]
  },
  {
   "cell_type": "code",
   "execution_count": 135,
   "metadata": {},
   "outputs": [],
   "source": [
    "# # Show rejected points\n",
    "# img_rejections = np.copy(frame)\n",
    "# for pts in rejectedImgPoints:\n",
    "# #     print((pts.shape))\n",
    "\n",
    "#     for i in range(0,4):\n",
    "#         x = pts[0][i][0]\n",
    "#         y = pts[0][i][1]\n",
    "# #         print(x,y)\n",
    "#         img3 = cv2.circle(img_rejections, (x, y), 5, (255,0,0), 2)\n",
    "\n",
    "# plt.imshow(img3)\n",
    "# plt.show()\n"
   ]
  },
  {
   "cell_type": "code",
   "execution_count": null,
   "metadata": {},
   "outputs": [],
   "source": []
  }
 ],
 "metadata": {
  "kernelspec": {
   "display_name": "cvenv",
   "language": "python",
   "name": "cvenv"
  },
  "language_info": {
   "codemirror_mode": {
    "name": "ipython",
    "version": 3
   },
   "file_extension": ".py",
   "mimetype": "text/x-python",
   "name": "python",
   "nbconvert_exporter": "python",
   "pygments_lexer": "ipython3",
   "version": "3.6.9"
  }
 },
 "nbformat": 4,
 "nbformat_minor": 2
}
